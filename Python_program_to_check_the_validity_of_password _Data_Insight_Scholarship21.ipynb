{
 "cells": [
  {
   "cell_type": "code",
   "execution_count": 3,
   "id": "88016aa9",
   "metadata": {},
   "outputs": [],
   "source": [
    "import re"
   ]
  },
  {
   "cell_type": "code",
   "execution_count": null,
   "id": "72e0ab6e",
   "metadata": {},
   "outputs": [],
   "source": [
    "# Python program to check the validity of password\n",
    "##### Module of regular expression is used with search()"
   ]
  },
  {
   "cell_type": "markdown",
   "id": "c51f84a4",
   "metadata": {},
   "source": [
    "Primary conditions for password validation :\n",
    "\n",
    "Minimum 8 characters. \n",
    "The alphabets must be between [a-z]\n",
    "At least one alphabet should be of Upper Case [A-Z] \n",
    "At least 1 number or digit between [0-9].\n",
    "At least 1 character from [ _ or @ or $ ]."
   ]
  },
  {
   "cell_type": "markdown",
   "id": "848ef12b",
   "metadata": {},
   "source": [
    "Input : R@m@_f0rtu9e$\n",
    "    \n",
    "Output : Valid Password\n",
    "\n",
    "Input : Rama_fortune$\n",
    "Output : Invalid Password\n",
    "    \n",
    "Explanation: Number is missing\n",
    "\n",
    "Input : Rama#fortu9e \n",
    "Output : Invalid Password\n",
    "Explanation: Must consist from _ or @ or $"
   ]
  },
  {
   "cell_type": "code",
   "execution_count": 5,
   "id": "7077152c",
   "metadata": {},
   "outputs": [
    {
     "name": "stdout",
     "output_type": "stream",
     "text": [
      "The password R@m@_f0rtu9e$ is valid\n"
     ]
    }
   ],
   "source": [
    "password = \"R@m@_f0rtu9e$\"\n",
    "\n",
    "is_valid = True\n",
    "reason = ''\n",
    "\n",
    "while True:  \n",
    "    if (len(password)<8):\n",
    "        is_valid = False\n",
    "        reason = 'The length of the password is not up to 9 characters'\n",
    "        break\n",
    "    elif not re.search(\"[a-z]\", password):\n",
    "        is_valid = False\n",
    "        reason = 'There is no lower case alphabet in the password'\n",
    "        break\n",
    "    elif not re.search(\"[A-Z]\", password):\n",
    "        is_valid = False\n",
    "        reason = 'There is no upper case alphabet in the password'\n",
    "        break\n",
    "    elif not re.search(\"[0-9]\", password):\n",
    "        is_valid = False\n",
    "        reason = 'There is no digit in the password'\n",
    "        break\n",
    "    elif not re.search(\"[_@$]\", password):\n",
    "        is_valid = False\n",
    "        reason = 'The password requires atleast one symbol'\n",
    "        break\n",
    "    elif re.search(\"\\s\", password):\n",
    "        is_valid = False\n",
    "        reason = 'The password contains a whitespace'\n",
    "        break\n",
    "    else:\n",
    "        break\n",
    "  \n",
    "\n",
    "if is_valid is False:\n",
    "    print(\"{} , therefore it's invalid\".format(reason))\n",
    "else:\n",
    "    print('The password {} is valid'.format(password))"
   ]
  },
  {
   "cell_type": "code",
   "execution_count": null,
   "id": "a51739b3",
   "metadata": {},
   "outputs": [],
   "source": []
  }
 ],
 "metadata": {
  "kernelspec": {
   "display_name": "Python 3",
   "language": "python",
   "name": "python3"
  },
  "language_info": {
   "codemirror_mode": {
    "name": "ipython",
    "version": 3
   },
   "file_extension": ".py",
   "mimetype": "text/x-python",
   "name": "python",
   "nbconvert_exporter": "python",
   "pygments_lexer": "ipython3",
   "version": "3.8.8"
  }
 },
 "nbformat": 4,
 "nbformat_minor": 5
}
